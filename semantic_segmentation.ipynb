{
 "cells": [
  {
   "cell_type": "code",
   "execution_count": 1,
   "metadata": {
    "collapsed": true
   },
   "outputs": [],
   "source": [
    "import numpy as np\n",
    "import pandas as pd\n",
    "import matplotlib.pyplot as plt\n",
    "from sklearn.datasets import load_files"
   ]
  },
  {
   "cell_type": "code",
   "execution_count": 2,
   "metadata": {},
   "outputs": [
    {
     "name": "stderr",
     "output_type": "stream",
     "text": [
      "/home/aind2/anaconda3/lib/python3.6/site-packages/h5py/__init__.py:34: FutureWarning: Conversion of the second argument of issubdtype from `float` to `np.floating` is deprecated. In future, it will be treated as `np.float64 == np.dtype(float).type`.\n",
      "  from ._conv import register_converters as _register_converters\n",
      "Using TensorFlow backend.\n"
     ]
    }
   ],
   "source": [
    "from keras.preprocessing import image\n",
    "from data_preprocessor.PreProcessImgData import PreProcessImgData"
   ]
  },
  {
   "cell_type": "code",
   "execution_count": 3,
   "metadata": {
    "collapsed": true
   },
   "outputs": [],
   "source": [
    "import tensorflow as tf\n",
    "from keras.backend.tensorflow_backend import set_session\n",
    "config = tf.ConfigProto()\n",
    "config.gpu_options.per_process_gpu_memory_fraction = 0.9\n",
    "set_session(tf.Session(config=config))"
   ]
  },
  {
   "cell_type": "code",
   "execution_count": 4,
   "metadata": {
    "collapsed": true
   },
   "outputs": [],
   "source": [
    "image_path_samples = '../train_camVid/*.png'\n",
    "image_path_labels = '../LabeledApproved_full/*.png'\n",
    "# image_path_samples = 'C:/Krishna/DataSets/cam_vid_semantic/train_samples/*.png'\n",
    "# image_path_labels = 'C:/Krishna/DataSets/cam_vid_semantic/train_labels/*.png'\n",
    "\n",
    "target_width = 256\n",
    "target_height = 256\n",
    "labels_dict = [[0, 0, 0],[128, 64, 128],[128, 0, 0]]\n",
    "#labels_dict = [[0, 0, 0], [128, 0, 0], [0, 128, 0], [128, 128, 0], [0, 0, 128], [128, 0, 128],[128,64,128]]\n",
    "#labels_dict = [[128,64,128]]"
   ]
  },
  {
   "cell_type": "code",
   "execution_count": 5,
   "metadata": {
    "collapsed": true
   },
   "outputs": [],
   "source": [
    "p = PreProcessImgData(image_path_samples,\n",
    "                      image_path_labels,\n",
    "                      len(labels_dict), target_width, target_height, labels_dict,False)\n",
    "\n",
    "sorted_samples = sorted(p.file_list_samples)\n",
    "sorted_labels = sorted(p.file_list_labels)"
   ]
  },
  {
   "cell_type": "code",
   "execution_count": 6,
   "metadata": {
    "collapsed": true
   },
   "outputs": [],
   "source": [
    "from sklearn.model_selection import train_test_split\n",
    "\n",
    "\n",
    "train_samples,test_samples,train_labels,test_labels = train_test_split(sorted_samples,sorted_labels,test_size=0.33, random_state=42)"
   ]
  },
  {
   "cell_type": "code",
   "execution_count": 7,
   "metadata": {
    "collapsed": true
   },
   "outputs": [],
   "source": [
    "from keras.models import *\n",
    "from keras.layers import *\n",
    "from keras.optimizers import *\n",
    "from keras.regularizers import *\n",
    "from keras.callbacks import ModelCheckpoint\n",
    "from keras.layers.normalization import *\n"
   ]
  },
  {
   "cell_type": "code",
   "execution_count": 8,
   "metadata": {},
   "outputs": [
    {
     "name": "stdout",
     "output_type": "stream",
     "text": [
      "__________________________________________________________________________________________________\n",
      "Layer (type)                    Output Shape         Param #     Connected to                     \n",
      "==================================================================================================\n",
      "input_1 (InputLayer)            (None, 256, 256, 3)  0                                            \n",
      "__________________________________________________________________________________________________\n",
      "conv2d_1 (Conv2D)               (None, 256, 256, 64) 1792        input_1[0][0]                    \n",
      "__________________________________________________________________________________________________\n",
      "max_pooling2d_1 (MaxPooling2D)  (None, 128, 128, 64) 0           conv2d_1[0][0]                   \n",
      "__________________________________________________________________________________________________\n",
      "conv2d_2 (Conv2D)               (None, 128, 128, 128 73856       max_pooling2d_1[0][0]            \n",
      "__________________________________________________________________________________________________\n",
      "max_pooling2d_2 (MaxPooling2D)  (None, 64, 64, 128)  0           conv2d_2[0][0]                   \n",
      "__________________________________________________________________________________________________\n",
      "conv2d_3 (Conv2D)               (None, 64, 64, 256)  295168      max_pooling2d_2[0][0]            \n",
      "__________________________________________________________________________________________________\n",
      "dropout_2 (Dropout)             (None, 64, 64, 256)  0           conv2d_3[0][0]                   \n",
      "__________________________________________________________________________________________________\n",
      "max_pooling2d_3 (MaxPooling2D)  (None, 32, 32, 256)  0           dropout_2[0][0]                  \n",
      "__________________________________________________________________________________________________\n",
      "conv2d_4 (Conv2D)               (None, 32, 32, 512)  1180160     max_pooling2d_3[0][0]            \n",
      "__________________________________________________________________________________________________\n",
      "dropout_3 (Dropout)             (None, 32, 32, 512)  0           conv2d_4[0][0]                   \n",
      "__________________________________________________________________________________________________\n",
      "max_pooling2d_4 (MaxPooling2D)  (None, 16, 16, 512)  0           dropout_3[0][0]                  \n",
      "__________________________________________________________________________________________________\n",
      "up_sampling2d_1 (UpSampling2D)  (None, 32, 32, 512)  0           max_pooling2d_4[0][0]            \n",
      "__________________________________________________________________________________________________\n",
      "conv2d_transpose_1 (Conv2DTrans (None, 32, 32, 512)  2359808     up_sampling2d_1[0][0]            \n",
      "__________________________________________________________________________________________________\n",
      "add_1 (Add)                     (None, 32, 32, 512)  0           conv2d_transpose_1[0][0]         \n",
      "                                                                 dropout_3[0][0]                  \n",
      "__________________________________________________________________________________________________\n",
      "up_sampling2d_2 (UpSampling2D)  (None, 64, 64, 512)  0           add_1[0][0]                      \n",
      "__________________________________________________________________________________________________\n",
      "conv2d_transpose_2 (Conv2DTrans (None, 64, 64, 256)  1179904     up_sampling2d_2[0][0]            \n",
      "__________________________________________________________________________________________________\n",
      "add_2 (Add)                     (None, 64, 64, 256)  0           conv2d_transpose_2[0][0]         \n",
      "                                                                 dropout_2[0][0]                  \n",
      "__________________________________________________________________________________________________\n",
      "up_sampling2d_3 (UpSampling2D)  (None, 128, 128, 256 0           add_2[0][0]                      \n",
      "__________________________________________________________________________________________________\n",
      "conv2d_transpose_3 (Conv2DTrans (None, 128, 128, 128 295040      up_sampling2d_3[0][0]            \n",
      "__________________________________________________________________________________________________\n",
      "add_3 (Add)                     (None, 128, 128, 128 0           conv2d_transpose_3[0][0]         \n",
      "                                                                 conv2d_2[0][0]                   \n",
      "__________________________________________________________________________________________________\n",
      "up_sampling2d_4 (UpSampling2D)  (None, 256, 256, 128 0           add_3[0][0]                      \n",
      "__________________________________________________________________________________________________\n",
      "conv2d_transpose_4 (Conv2DTrans (None, 256, 256, 64) 73792       up_sampling2d_4[0][0]            \n",
      "__________________________________________________________________________________________________\n",
      "conv2d_5 (Conv2D)               (None, 256, 256, 3)  195         conv2d_transpose_4[0][0]         \n",
      "__________________________________________________________________________________________________\n",
      "reshape_1 (Reshape)             (None, 65536, 3)     0           conv2d_5[0][0]                   \n",
      "==================================================================================================\n",
      "Total params: 5,459,715\n",
      "Trainable params: 5,459,715\n",
      "Non-trainable params: 0\n",
      "__________________________________________________________________________________________________\n"
     ]
    },
    {
     "name": "stderr",
     "output_type": "stream",
     "text": [
      "/home/aind2/anaconda3/lib/python3.6/site-packages/ipykernel_launcher.py:49: UserWarning: Update your `Model` call to the Keras 2 API: `Model(inputs=Tensor(\"in..., outputs=Tensor(\"re...)`\n"
     ]
    }
   ],
   "source": [
    "## Model for FCNNs with skip connections\n",
    "\n",
    "img_input = Input(shape=(256,256,3))\n",
    "\n",
    "conv1 = Conv2D(64,(3,3),activation= 'relu',padding='same')(img_input)\n",
    "#conv1 = Conv2D(64,(3,3),activation= 'relu',padding='same')(conv1)\n",
    "#conv1 = Conv2D(64,(3,3),activation= 'relu',padding='same')(conv1)\n",
    "pool1 = MaxPool2D(pool_size=(2,2),padding='same')(conv1)\n",
    "\n",
    "conv2 = Conv2D(128,(3,3),activation= 'relu',padding='same')(pool1)\n",
    "#conv2 = Conv2D(128,(3,3),activation= 'relu',padding='same')(conv2)\n",
    "#conv2 = Conv2D(128,(3,3),activation= 'relu',padding='same')(conv2)\n",
    "drop3 = Dropout(0.5)(conv2)\n",
    "pool2 = MaxPool2D(pool_size=(2,2),padding='same')(conv2)\n",
    "\n",
    "conv3 = Conv2D(256,(3,3),activation= 'relu',padding='same')(pool2)\n",
    "#conv3 = Conv2D(256,(3,3),activation= 'relu',padding='same')(conv3)\n",
    "#conv3 = Conv2D(256,(3,3),activation= 'relu',padding='same')(conv3)\n",
    "drop3 = Dropout(0.5)(conv3)\n",
    "pool3 = MaxPool2D(pool_size=(2,2),padding='same')(drop3)\n",
    "\n",
    "conv4 = Conv2D(512,(3,3),activation= 'relu',padding='same')(pool3)\n",
    "#conv4 = Conv2D(512,(3,3),activation= 'relu',padding='same')(conv4)\n",
    "#conv4 = Conv2D(512,(3,3),activation= 'relu',padding='same')(conv4)\n",
    "drop4 = Dropout(0.5)(conv4)\n",
    "pool4 = MaxPool2D(pool_size=(2,2),padding='same')(drop4)\n",
    "\n",
    "#conv5 = Conv2D(1024,(1,1),padding='same')(pool4)\n",
    "#conv5 = Conv2D(1024, (3,3), activation = 'relu', padding = 'same')(pool4)\n",
    "\n",
    "up_sample4 = UpSampling2D((2,2))(pool4)\n",
    "conv_transpose4 = Conv2DTranspose(512,(3,3),activation='relu',padding='same')(up_sample4)\n",
    "skip_connected_4 = Add()([conv_transpose4,drop4])\n",
    "\n",
    "up_sample3 = UpSampling2D((2,2))(skip_connected_4)\n",
    "conv_transpose3 = Conv2DTranspose(256,(3,3),activation='relu',padding='same')(up_sample3)\n",
    "skip_connected_3 = Add()([conv_transpose3,drop3])\n",
    "\n",
    "up_sample2 = UpSampling2D((2,2))(skip_connected_3)\n",
    "conv_transpose2 = Conv2DTranspose(128,(3,3),activation='relu',padding='same')(up_sample2)\n",
    "skip_connected_2 = Add()([conv_transpose2,conv2])\n",
    "\n",
    "up_sample1 = UpSampling2D((2,2))(skip_connected_2)\n",
    "conv_transpose1 = Conv2DTranspose(64,(3,3),activation='relu',padding='same')(up_sample1)\n",
    "out_layer2 = Conv2D(len(labels_dict),(1,1),padding='same')(conv_transpose1)\n",
    "#out_layer0 = Lambda(p.depth_softmax)(out_layer1)\n",
    "out_layer1 = Reshape((target_width*target_height,len(labels_dict)))(out_layer2)\n",
    "out_layer0 = Activation('softmax')(out_layer1)\n",
    "model = Model(input = img_input,output = out_layer1)\n",
    "\n",
    "\n",
    "model.summary()"
   ]
  },
  {
   "cell_type": "code",
   "execution_count": 9,
   "metadata": {
    "collapsed": true
   },
   "outputs": [],
   "source": [
    "model.compile(optimizer = Adam(lr= 1e-4), loss = 'categorical_crossentropy', metrics = ['accuracy'])"
   ]
  },
  {
   "cell_type": "code",
   "execution_count": 11,
   "metadata": {},
   "outputs": [
    {
     "name": "stdout",
     "output_type": "stream",
     "text": [
      "Epoch 1/5\n",
      "20/20 [==============================] - 93s 5s/step - loss: 1.1576 - acc: 0.2334\n",
      "Epoch 2/5\n"
     ]
    },
    {
     "name": "stderr",
     "output_type": "stream",
     "text": [
      "/home/aind2/anaconda3/lib/python3.6/site-packages/keras/callbacks.py:432: RuntimeWarning: Can save best model only with val_loss available, skipping.\n",
      "  'skipping.' % (self.monitor), RuntimeWarning)\n"
     ]
    },
    {
     "name": "stdout",
     "output_type": "stream",
     "text": [
      "20/20 [==============================] - 88s 4s/step - loss: 0.9974 - acc: 0.1071\n",
      "Epoch 3/5\n",
      "20/20 [==============================] - 89s 4s/step - loss: 2.3652 - acc: 0.1259\n",
      "Epoch 4/5\n",
      "20/20 [==============================] - 89s 4s/step - loss: 1.1083 - acc: 0.2342\n",
      "Epoch 5/5\n",
      "20/20 [==============================] - 89s 4s/step - loss: 1.0597 - acc: 0.2395\n"
     ]
    },
    {
     "data": {
      "image/png": "[encoded data removed]",
      "text/plain": [
       "<matplotlib.figure.Figure at 0x7f9d4424b278>"
      ]
     },
     "metadata": {},
     "output_type": "display_data"
    }
   ],
   "source": [
    "check_pointer = ModelCheckpoint('best_weights/best_weights.hdf5',verbose=1,save_best_only=True)\n",
    "#history = model.fit(train_samples_array,train_labels_array,epochs=5,verbose=1,validation_split=0.1, batch_size=5,callbacks=[check_pointer])\n",
    "history = model.fit_generator(p.train_generator(train_samples,train_labels,batch_size=32,test=False),\n",
    "                              steps_per_epoch=20,epochs=5,verbose=1,callbacks=[check_pointer])\n",
    "\n",
    "plt.plot(history.history['loss'])\n",
    "# plt.plot(history.history['val_loss'])\n",
    "plt.title('model train vs validation loss')\n",
    "plt.ylabel('loss')\n",
    "plt.xlabel('epoch')\n",
    "plt.legend(['train', 'validation'], loc='upper right')\n",
    "plt.show()"
   ]
  },
  {
   "cell_type": "code",
   "execution_count": 10,
   "metadata": {},
   "outputs": [
    {
     "name": "stdout",
     "output_type": "stream",
     "text": [
      "(1, 65536, 3)\n"
     ]
    }
   ],
   "source": [
    "from PIL import Image\n",
    "\n",
    "pred_array = model.predict(np.expand_dims(image.load_img(train_samples[2], target_size=(256, 256)),axis=0)/192)\n",
    "\n",
    "print(pred_array.shape)\n"
   ]
  },
  {
   "cell_type": "code",
   "execution_count": 11,
   "metadata": {},
   "outputs": [
    {
     "data": {
      "text/plain": [
       "<matplotlib.image.AxesImage at 0x7f30a8eaecf8>"
      ]
     },
     "execution_count": 11,
     "metadata": {},
     "output_type": "execute_result"
    },
    {
     "data": {
      "image/png": "[encoded data removed]",
      "text/plain": [
       "<matplotlib.figure.Figure at 0x7f30b0c8bfd0>"
      ]
     },
     "metadata": {},
     "output_type": "display_data"
    }
   ],
   "source": [
    "from matplotlib.pyplot import imshow\n",
    "\n",
    "%matplotlib inline\n",
    "\n",
    "pred_img = p.reduce_to_img(np.squeeze(pred_array).reshape((target_width,target_height,3)))\n",
    "\n",
    "imshow(Image.fromarray((pred_img).astype('uint8')))\n"
   ]
  },
  {
   "cell_type": "code",
   "execution_count": 12,
   "metadata": {},
   "outputs": [
    {
     "data": {
      "text/plain": [
       "<matplotlib.image.AxesImage at 0x7f30a8dcb898>"
      ]
     },
     "execution_count": 12,
     "metadata": {},
     "output_type": "execute_result"
    },
    {
     "data": {
      "image/png": "[encoded data removed]",
      "text/plain": [
       "<matplotlib.figure.Figure at 0x7f30a96faf98>"
      ]
     },
     "metadata": {},
     "output_type": "display_data"
    }
   ],
   "source": [
    "imshow(Image.open(train_labels[2]))"
   ]
  },
  {
   "cell_type": "code",
   "execution_count": 13,
   "metadata": {},
   "outputs": [
    {
     "name": "stdout",
     "output_type": "stream",
     "text": [
      "(256, 256, 3)\n"
     ]
    },
    {
     "data": {
      "text/plain": [
       "<matplotlib.image.AxesImage at 0x7f30a8d57e48>"
      ]
     },
     "execution_count": 13,
     "metadata": {},
     "output_type": "execute_result"
    },
    {
     "data": {
      "image/png": "[encoded data removed]",
      "text/plain": [
       "<matplotlib.figure.Figure at 0x7f30b21510f0>"
      ]
     },
     "metadata": {},
     "output_type": "display_data"
    }
   ],
   "source": [
    "a = p.label_to_array(np.array(p.load(train_labels[1])))\n",
    "\n",
    "print(a.shape)\n",
    "\n",
    "lab_img = p.reduce_to_img(np.squeeze(a))\n",
    "\n",
    "imshow(Image.fromarray((lab_img).astype('uint8')))"
   ]
  },
  {
   "cell_type": "code",
   "execution_count": null,
   "metadata": {
    "collapsed": true
   },
   "outputs": [],
   "source": []
  }
 ],
 "metadata": {
  "kernelspec": {
   "display_name": "Python 3",
   "language": "python",
   "name": "python3"
  },
  "language_info": {
   "codemirror_mode": {
    "name": "ipython",
    "version": 3
   },
   "file_extension": ".py",
   "mimetype": "text/x-python",
   "name": "python",
   "nbconvert_exporter": "python",
   "pygments_lexer": "ipython3",
   "version": "3.6.0"
  }
 },
 "nbformat": 4,
 "nbformat_minor": 2
}
