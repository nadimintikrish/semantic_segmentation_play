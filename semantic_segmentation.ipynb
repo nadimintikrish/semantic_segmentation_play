{
 "cells": [
  {
   "cell_type": "code",
   "execution_count": 26,
   "metadata": {
    "collapsed": true
   },
   "outputs": [],
   "source": [
    "import numpy as np\n",
    "import pandas as pd\n",
    "import matplotlib.pyplot as plt\n",
    "from sklearn.datasets import load_files\n",
    "import cv2"
   ]
  },
  {
   "cell_type": "code",
   "execution_count": 27,
   "metadata": {
    "collapsed": true
   },
   "outputs": [],
   "source": [
    "from keras.preprocessing import image"
   ]
  },
  {
   "cell_type": "code",
   "execution_count": 28,
   "metadata": {
    "collapsed": true
   },
   "outputs": [],
   "source": [
    "# image_path_samples = '../train_camVid/*.png'\n",
    "# image_path_labels = '../LabeledApproved_full/*.png'\n",
    "image_path_samples = 'C:/Krishna/DataSets/cam_vid_semantic/train_samples/*.png'\n",
    "image_path_labels = 'C:/Krishna/DataSets/cam_vid_semantic/train_labels/*.png'\n"
   ]
  },
  {
   "cell_type": "code",
   "execution_count": 29,
   "metadata": {
    "collapsed": true
   },
   "outputs": [],
   "source": [
    "import glob\n",
    "filelist_samples = glob.glob(image_path_samples)\n",
    "filelist_labels = glob.glob(image_path_labels)\n",
    "\n"
   ]
  },
  {
   "cell_type": "code",
   "execution_count": 5,
   "metadata": {},
   "outputs": [
    {
     "name": "stdout",
     "output_type": "stream",
     "text": [
      "(701, 256, 256, 3) (701, 256, 256, 3)\n"
     ]
    }
   ],
   "source": [
    "from PIL import Image\n",
    "\n",
    "samples_array =np.array([np.array(image.load_img(fname, target_size=(256, 256))) for fname in filelist_samples])\n",
    "labels_array = np.array([np.array(image.load_img(fname, target_size=(256, 256))) for fname in filelist_labels])\n",
    "\n",
    "print(samples_array.shape,labels_array.shape)"
   ]
  },
  {
   "cell_type": "code",
   "execution_count": 40,
   "metadata": {},
   "outputs": [
    {
     "data": {
      "text/plain": [
       "array([  0,  64, 128, 192], dtype=uint8)"
      ]
     },
     "execution_count": 40,
     "metadata": {},
     "output_type": "execute_result"
    }
   ],
   "source": [
    "#from keras.utils import to_categorical\n",
    "from PIL import Image\n",
    "\n",
    "np.unique(np.array(Image.open(filelist_labels[500])))"
   ]
  },
  {
   "cell_type": "code",
   "execution_count": null,
   "metadata": {
    "collapsed": true
   },
   "outputs": [],
   "source": [
    "from sklearn.model_selection import train_test_split\n",
    "\n",
    "train_samples_array,test_samples_array,train_labels_array,test_labels_array = \\\n",
    "train_test_split(samples_array,labels_array,test_size=0.33, random_state=42)"
   ]
  },
  {
   "cell_type": "code",
   "execution_count": null,
   "metadata": {
    "collapsed": true
   },
   "outputs": [],
   "source": [
    "print(\"train Samples size {} and test samples size {}\".format(train_samples_array.shape,test_samples_array.shape))"
   ]
  },
  {
   "cell_type": "code",
   "execution_count": null,
   "metadata": {
    "collapsed": true
   },
   "outputs": [],
   "source": [
    "from matplotlib.pyplot import imshow\n",
    "%matplotlib inline\n",
    "\n",
    "imshow(Image.fromarray(np.squeeze(train_samples_array[20])))\n"
   ]
  },
  {
   "cell_type": "code",
   "execution_count": null,
   "metadata": {
    "collapsed": true
   },
   "outputs": [],
   "source": [
    "imshow(Image.fromarray(np.squeeze(train_labels_array[20])))"
   ]
  },
  {
   "cell_type": "code",
   "execution_count": null,
   "metadata": {
    "collapsed": true
   },
   "outputs": [],
   "source": [
    "def pretrained_path_to_tensor(img_path):\n",
    "    # loads RGB image as PIL.Image.Image type\n",
    "    img = image.load_img(img_path, target_size=(256, 256))\n",
    "    # convert PIL.Image.Image type to 3D tensor with shape (512, 512, 3)\n",
    "    x = image.img_to_array(img)\n",
    "    # convert 3D tensor to 4D tensor with shape (1, 512, 512, 3) and return 4D tensor\n",
    "    x = np.expand_dims(x, axis=0)\n",
    "\n",
    "    return x"
   ]
  },
  {
   "cell_type": "code",
   "execution_count": null,
   "metadata": {
    "collapsed": true
   },
   "outputs": [],
   "source": [
    "## normalize tensors\n",
    "\n",
    "train_samples_array = train_samples_array.astype('float32')/255\n",
    "test_samples_array = test_samples_array.astype('float32')/255 \n",
    "train_labels_array = train_labels_array.astype('float32')/255\n",
    "test_labels_array = test_labels_array.astype('float32') /255\n"
   ]
  },
  {
   "cell_type": "code",
   "execution_count": null,
   "metadata": {
    "collapsed": true
   },
   "outputs": [],
   "source": [
    "from keras.models import *\n",
    "from keras.layers import *\n",
    "from keras.optimizers import *\n",
    "from keras.callbacks import ModelCheckpoint\n"
   ]
  },
  {
   "cell_type": "code",
   "execution_count": null,
   "metadata": {
    "collapsed": true
   },
   "outputs": [],
   "source": [
    "## Model for FCNNs with skip connections\n",
    "\n",
    "img_input = Input(shape=(256,256,3))\n",
    "conv1 = Conv2D(64,(3,3),activation= 'relu',padding='same')(img_input)\n",
    "pool1 = MaxPool2D(pool_size=(2,2),padding='same')(conv1)\n",
    "\n",
    "conv2 = Conv2D(128,(3,3),activation= 'relu',padding='same')(pool1)\n",
    "pool2 = MaxPool2D(pool_size=(2,2),padding='same')(conv2)\n",
    "\n",
    "conv3 = Conv2D(256,(3,3),activation= 'relu',padding='same')(pool2)\n",
    "drop3 = Dropout(0.3)(conv3)\n",
    "pool3 = MaxPool2D(pool_size=(2,2),padding='same')(drop3)\n",
    "\n",
    "conv4 = Conv2D(512,(3,3),activation= 'relu',padding='same')(pool3)\n",
    "drop4 = Dropout(0.3)(conv4)\n",
    "\n",
    "# up_sample4 = UpSampling2D((2,2))(drop4)\n",
    "# conv_transpose4 = Conv2DTranspose(512,(3,3),activation='relu',padding='same')(up_sample4)\n",
    "# skip_connected_4 = Add()([conv_transpose4,drop4])\n",
    "\n",
    "up_sample3 = UpSampling2D((2,2))(drop4)\n",
    "conv_transpose3 = Conv2DTranspose(256,(3,3),activation='relu',padding='same')(up_sample3)\n",
    "skip_connected_3 = Add()([conv_transpose3,drop3])\n",
    "\n",
    "up_sample2 = UpSampling2D((2,2))(skip_connected_3)\n",
    "conv_transpose2 = Conv2DTranspose(128,(3,3),activation='relu',padding='same')(up_sample2)\n",
    "skip_connected_2 = Add()([conv_transpose2,conv2])\n",
    "\n",
    "up_sample1 = UpSampling2D((2,2))(skip_connected_2)\n",
    "conv_transpose1 = Conv2DTranspose(64,(3,3),activation='relu',padding='same')(up_sample1)\n",
    "out_layer = Conv2DTranspose(3, (3, 3), activation='sigmoid', padding='same')(conv_transpose1)\n",
    "\n",
    "model = Model(input = img_input,output = out_layer)\n",
    "\n",
    "model.summary()\n"
   ]
  },
  {
   "cell_type": "code",
   "execution_count": null,
   "metadata": {
    "collapsed": true
   },
   "outputs": [],
   "source": [
    "model.compile(optimizer = 'sgd', loss = 'mse', metrics = ['accuracy'])"
   ]
  },
  {
   "cell_type": "code",
   "execution_count": null,
   "metadata": {
    "collapsed": true
   },
   "outputs": [],
   "source": [
    "check_pointer = ModelCheckpoint('best_weights/best_weights.hdf5',verbose=1,save_best_only=True)\n",
    "history = model.fit(train_samples_array,train_labels_array,epochs=5,verbose=1,validation_split=0.1, batch_size=5,callbacks=[check_pointer])\n",
    "\n",
    "plt.plot(history.history['loss'])\n",
    "plt.plot(history.history['val_loss'])\n",
    "plt.title('model train vs validation loss')\n",
    "plt.ylabel('loss')\n",
    "plt.xlabel('epoch')\n",
    "plt.legend(['train', 'validation'], loc='upper right')\n",
    "plt.show()"
   ]
  },
  {
   "cell_type": "code",
   "execution_count": null,
   "metadata": {
    "collapsed": true
   },
   "outputs": [],
   "source": [
    "# model.fit(train_samples_array,train_labels_array,epochs=5,verbose=2,batch_size=5,validation_split=0.2,callbacks=[check_pointer])"
   ]
  },
  {
   "cell_type": "code",
   "execution_count": null,
   "metadata": {
    "collapsed": true
   },
   "outputs": [],
   "source": [
    "test_metrics = model.evaluate(test_samples_array,test_labels_array)\n",
    "\n",
    "print(test_metrics)"
   ]
  },
  {
   "cell_type": "code",
   "execution_count": null,
   "metadata": {
    "collapsed": true
   },
   "outputs": [],
   "source": [
    "pred_array = model.predict(np.expand_dims(train_samples_array[20],axis=0))\n",
    "label_array =  train_labels_array[20]"
   ]
  },
  {
   "cell_type": "code",
   "execution_count": null,
   "metadata": {
    "collapsed": true
   },
   "outputs": [],
   "source": [
    "imshow(Image.fromarray(np.squeeze((pred_array*255).astype('uint8'))))\n"
   ]
  },
  {
   "cell_type": "code",
   "execution_count": null,
   "metadata": {
    "collapsed": true
   },
   "outputs": [],
   "source": [
    "imshow(Image.fromarray(np.squeeze((label_array*255).astype('uint8'))))"
   ]
  },
  {
   "cell_type": "code",
   "execution_count": null,
   "metadata": {
    "collapsed": true
   },
   "outputs": [],
   "source": []
  }
 ],
 "metadata": {
  "kernelspec": {
   "display_name": "Python 3",
   "language": "python",
   "name": "python3"
  },
  "language_info": {
   "codemirror_mode": {
    "name": "ipython",
    "version": 3
   },
   "file_extension": ".py",
   "mimetype": "text/x-python",
   "name": "python",
   "nbconvert_exporter": "python",
   "pygments_lexer": "ipython3",
   "version": "3.6.1"
  }
 },
 "nbformat": 4,
 "nbformat_minor": 2
}
